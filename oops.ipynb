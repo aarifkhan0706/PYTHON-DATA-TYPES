{
 "cells": [
  {
   "cell_type": "markdown",
   "metadata": {},
   "source": [
    "python :=object oriented programming\n",
    "there are different ways we can implement object oriented programming paradigm\n",
    "1. Object\n",
    "2. Class\n",
    "3. Method\n",
    "4. Inheritance\n",
    "5. Polymorphism\n",
    "6. Data Abstraction\n",
    "7. Encapsulation\n"
   ]
  },
  {
   "cell_type": "code",
   "execution_count": null,
   "metadata": {},
   "outputs": [],
   "source": []
  }
 ],
 "metadata": {
  "kernelspec": {
   "display_name": "Python 3",
   "language": "python",
   "name": "python3"
  },
  "language_info": {
   "codemirror_mode": {
    "name": "ipython",
    "version": 3
   },
   "file_extension": ".py",
   "mimetype": "text/x-python",
   "name": "python",
   "nbconvert_exporter": "python",
   "pygments_lexer": "ipython3",
   "version": "3.5.6"
  }
 },
 "nbformat": 4,
 "nbformat_minor": 2
}
