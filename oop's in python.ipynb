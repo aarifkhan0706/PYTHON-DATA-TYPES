{
 "cells": [
  {
   "cell_type": "code",
   "execution_count": 3,
   "metadata": {},
   "outputs": [
    {
     "name": "stdout",
     "output_type": "stream",
     "text": [
      "hello world\n"
     ]
    }
   ],
   "source": [
    "class computer :\n",
    "    def config(self):\n",
    "        print(\"hello world\")\n",
    "k=computer()\n",
    "computer.config(k)"
   ]
  },
  {
   "cell_type": "code",
   "execution_count": 6,
   "metadata": {},
   "outputs": [
    {
     "name": "stdout",
     "output_type": "stream",
     "text": [
      "hello world\n",
      "hello world\n",
      "hello world\n",
      "hello world\n",
      "hello world\n",
      "hello world\n",
      "hello world\n",
      "hello world\n",
      "hello world\n",
      "hello world\n",
      "hello world\n"
     ]
    }
   ],
   "source": [
    "class computer :\n",
    "    def config(self):\n",
    "        print(\"hello world\")\n",
    "k=computer()\n",
    "\n",
    "g=computer()\n",
    "k.config()\n",
    "g.config()\n",
    "for i in range(1,10):\n",
    "    k.config()"
   ]
  },
  {
   "cell_type": "code",
   "execution_count": 15,
   "metadata": {},
   "outputs": [
    {
     "name": "stdout",
     "output_type": "stream",
     "text": [
      "('the ram is', 7, 'and the generation', 'i5')\n",
      "('the ram is', 5, 'and the generation', 'i7')\n"
     ]
    }
   ],
   "source": [
    "class computer:\n",
    "    def __init__(self,ram,cpu):\n",
    "        self.ram=ram\n",
    "        self.cpu=cpu\n",
    "        \n",
    "    def config(self):\n",
    "        print((\"the ram is\",self.ram )+(\"and the generation\",self.cpu))\n",
    "com1=computer(7,\"i5\")\n",
    "com2=computer(5,\"i7\")\n",
    "com1.config()\n",
    "com2.config()"
   ]
  },
  {
   "cell_type": "code",
   "execution_count": 7,
   "metadata": {},
   "outputs": [
    {
     "name": "stdout",
     "output_type": "stream",
     "text": [
      "please enter your name: aarif\n",
      "please enter your age: 45\n",
      "please enter your name: aasif\n",
      "please enter your age: 23\n",
      "the name is : aarif\n",
      "the age is : 45\n",
      "the name is : aasif\n",
      "the age is : 23\n",
      "please enter your name: aid\n",
      "please enter your age: sf\n",
      "please enter your name: sjfi\n",
      "please enter your age: fjsi\n",
      "the name is : aid\n",
      "the age is : sf\n",
      "the name is : sjfi\n",
      "the age is : fjsi\n",
      "please enter your name: fsfh\n",
      "please enter your age: sffhu\n",
      "please enter your name: fjuihf\n",
      "please enter your age: fuhshf\n",
      "the name is : fsfh\n",
      "the age is : sffhu\n",
      "the name is : fjuihf\n",
      "the age is : fuhshf\n",
      "congrats you got your data updated\n"
     ]
    }
   ],
   "source": [
    "class nameholder:\n",
    "    def __init__(self):\n",
    "        self.name=input(\"please enter your name: \")\n",
    "        self.age=input(\"please enter your age: \")\n",
    "    def display(self):\n",
    "        print(\"the name is :\",self.name)\n",
    "        print(\"the age is :\",self.age)\n",
    "i=0\n",
    "while i<3 :\n",
    "    n1=nameholder()\n",
    "    n2=nameholder()\n",
    "    n1.display()\n",
    "    n2.display()\n",
    "    i+=1\n",
    "print(\"congrats you got your data updated\")"
   ]
  },
  {
   "cell_type": "markdown",
   "metadata": {},
   "source": [
    "# types of variables in python"
   ]
  },
  {
   "cell_type": "markdown",
   "metadata": {},
   "source": [
    "there are two types of variables:\n",
    "    1. static variables#made inside class but outside methods ,changing it will effect all objects values\n",
    "    2. instant variables#made inside class and inside init method , it will change accordingly as per objects"
   ]
  },
  {
   "cell_type": "code",
   "execution_count": 12,
   "metadata": {},
   "outputs": [
    {
     "name": "stdout",
     "output_type": "stream",
     "text": [
      "The comapany name is : BMW  and the mileage is:  8\n",
      "the number of wheels = 5\n",
      "The comapany name is : maruti  and the mileage is:  16\n",
      "the number of wheels = 4\n",
      "maruti 16 4\n"
     ]
    }
   ],
   "source": [
    "class car:\n",
    "    wheels=4\n",
    "    def __init__(self,company,mileage):\n",
    "        self.company=company\n",
    "        self.mileage=mileage\n",
    "    def display(self):\n",
    "        print(\"The comapany name is :\",self.company,\" and the mileage is: \",self.mileage)\n",
    "        print(\"the number of wheels =\",self.wheels)\n",
    "        \n",
    "c1=car(\"BMW\",8)\n",
    "c2=car(\"maruti\",16)\n",
    "c1.wheels=5\n",
    "c1.display()\n",
    "c2.display()\n",
    "print(c2.company,c2.mileage,c2.wheels)"
   ]
  },
  {
   "cell_type": "code",
   "execution_count": null,
   "metadata": {},
   "outputs": [],
   "source": []
  }
 ],
 "metadata": {
  "kernelspec": {
   "display_name": "Python 3",
   "language": "python",
   "name": "python3"
  },
  "language_info": {
   "codemirror_mode": {
    "name": "ipython",
    "version": 3
   },
   "file_extension": ".py",
   "mimetype": "text/x-python",
   "name": "python",
   "nbconvert_exporter": "python",
   "pygments_lexer": "ipython3",
   "version": "3.5.6"
  }
 },
 "nbformat": 4,
 "nbformat_minor": 2
}
